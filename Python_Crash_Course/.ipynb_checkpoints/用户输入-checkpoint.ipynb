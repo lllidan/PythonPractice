{
 "cells": [
  {
   "cell_type": "code",
   "execution_count": null,
   "metadata": {
    "collapsed": true
   },
   "outputs": [],
   "source": [
    "name = input(\"Please enter your name:\")\n",
    "print(\"Hello, \" + name + \"!\")"
   ]
  },
  {
   "cell_type": "markdown",
   "metadata": {},
   "source": [
    "### 通过在提示末尾包含一个空格，可将提示语用户输入分开，让用户清楚其输入始于何处"
   ]
  },
  {
   "cell_type": "code",
   "execution_count": 2,
   "metadata": {},
   "outputs": [
    {
     "name": "stdout",
     "output_type": "stream",
     "text": [
      "If you tell us whos you are, we can personalize the message you see\n",
      "What is your first name?Stormrage\n",
      "Hello， Stormrage!\n"
     ]
    }
   ],
   "source": [
    "Prompt = \"If you tell us whos you are, we can personalize the message you see\"\n",
    "Prompt += \"\\nWhat is your first name?\"\n",
    "\n",
    "name = input(Prompt)\n",
    "print(\"Hello， \" + name + \"!\")"
   ]
  },
  {
   "cell_type": "code",
   "execution_count": 3,
   "metadata": {},
   "outputs": [
    {
     "name": "stdout",
     "output_type": "stream",
     "text": [
      "How tall are you, in inches?19\n",
      "\n",
      "You'll be able to ride when you're a little order\n"
     ]
    }
   ],
   "source": [
    "height = input(\"How tall are you, in inches?\")\n",
    "height = int(height)\n",
    "\n",
    "if height >= 36:\n",
    "    print(\"\\nYou're tall enought to ride!\")\n",
    "else:\n",
    "    print(\"\\nYou'll be able to ride when you're a little order\")"
   ]
  },
  {
   "cell_type": "code",
   "execution_count": 4,
   "metadata": {},
   "outputs": [
    {
     "name": "stdout",
     "output_type": "stream",
     "text": [
      "1\n",
      "2\n",
      "3\n",
      "4\n",
      "5\n"
     ]
    }
   ],
   "source": [
    "current_number = 1\n",
    "while current_number <=5:\n",
    "    print(current_number)\n",
    "    current_number+=1\n"
   ]
  },
  {
   "cell_type": "code",
   "execution_count": 7,
   "metadata": {},
   "outputs": [
    {
     "name": "stdout",
     "output_type": "stream",
     "text": [
      "\n",
      "Tell me something, and i will repeat it back to you:\n",
      "Enter 'quit' to end the program.Hello\n",
      "Hello\n",
      "\n",
      "Tell me something, and i will repeat it back to you:\n",
      "Enter 'quit' to end the program.Bye\n",
      "Bye\n",
      "\n",
      "Tell me something, and i will repeat it back to you:\n",
      "Enter 'quit' to end the program.quit\n"
     ]
    }
   ],
   "source": [
    "prompt = \"\\nTell me something, and i will repeat it back to you:\"\n",
    "prompt += \"\\nEnter 'quit' to end the program.\"\n",
    "\n",
    "message = \"\"\n",
    "while message != 'quit':\n",
    "    message = input(prompt)\n",
    "    if message != \"quit\":\n",
    "        print(message)"
   ]
  },
  {
   "cell_type": "code",
   "execution_count": 10,
   "metadata": {},
   "outputs": [
    {
     "name": "stdout",
     "output_type": "stream",
     "text": [
      "\n",
      "(Enter 'quit' when you are finished.)Toyto\n",
      "I'd love to go to Toyto!\n",
      "\n",
      "(Enter 'quit' when you are finished.)Beijing\n",
      "I'd love to go to Beijing!\n",
      "\n",
      "(Enter 'quit' when you are finished.)quit\n"
     ]
    }
   ],
   "source": [
    "prompt = \"\\nPlease enter the name of a city you have visited:\"\n",
    "prompt = \"\\n(Enter 'quit' when you are finished.)\"\n",
    "\n",
    "while True:\n",
    "    city = input(prompt)\n",
    "    \n",
    "    if city == 'quit':\n",
    "        break\n",
    "    else:\n",
    "        print(\"I'd love to go to \" + city.title() +\"!\")"
   ]
  },
  {
   "cell_type": "markdown",
   "metadata": {},
   "source": [
    "# 使用while循环来处理列表和字典"
   ]
  },
  {
   "cell_type": "code",
   "execution_count": 15,
   "metadata": {},
   "outputs": [
    {
     "name": "stdout",
     "output_type": "stream",
     "text": [
      "Verifying user:Candance\n",
      "Verifying user:Brain\n",
      "Verifying user:Alice\n",
      "\n",
      "The following user have been confirmed:\n",
      "Candance\n",
      "Brain\n",
      "Alice\n"
     ]
    }
   ],
   "source": [
    "# 首先 ，创建一个待验证用户列表\n",
    "# 和一个用于存储已验证用户的空列表\n",
    "unconfirmed_users = ['alice', 'brain', 'candance']\n",
    "confirmed_users = []\n",
    "\n",
    "#验证每个用户，直到没有未验证用户为止\n",
    "# 将每个经过验证的的列表都移到已验证用户列表中\n",
    "while unconfirmed_users:\n",
    "    current_user = unconfirmed_users.pop()\n",
    "    \n",
    "    print(\"Verifying user:\" + current_user.title())\n",
    "    confirmed_users.append(current_user)\n",
    "# 显示所有已验证的用户\n",
    "print(\"\\nThe following user have been confirmed:\")\n",
    "for confirmed_user in confirmed_users:\n",
    "    print(confirmed_user.title())"
   ]
  },
  {
   "cell_type": "markdown",
   "metadata": {
    "collapsed": true
   },
   "source": [
    "### 使用用户输入来填充字典"
   ]
  },
  {
   "cell_type": "code",
   "execution_count": 25,
   "metadata": {},
   "outputs": [
    {
     "name": "stdout",
     "output_type": "stream",
     "text": [
      "\n",
      "What is your name? 1\n",
      "Which mountain would you like to climb someday? 2\n",
      "would you like to let another person respond? (yes/no)yes\n",
      "\n",
      "What is your name? 3\n",
      "Which mountain would you like to climb someday? 4\n",
      "would you like to let another person respond? (yes/no)yes\n",
      "\n",
      "What is your name? 5\n",
      "Which mountain would you like to climb someday? 6\n",
      "would you like to let another person respond? (yes/no)no\n",
      "\n",
      "---Poll Results ---\n",
      "1would like to climb 2.\n",
      "3would like to climb 4.\n",
      "5would like to climb 6.\n"
     ]
    }
   ],
   "source": [
    "responses = {}\n",
    "\n",
    "# 设置一个标志， 指出调查是否继续\n",
    "polling_active = True\n",
    "while polling_active:\n",
    "        # 提示输入被调查者的名字和回答\n",
    "        name = input(\"\\nWhat is your name? \")\n",
    "        reponse = input(\"Which mountain would you like to climb someday? \")\n",
    "        \n",
    "        # 将答案存储在字典中\n",
    "        responses[name] = reponse\n",
    "        \n",
    "        # 看看是否还有人要参与调查\n",
    "        repeat = input(\"would you like to let another person respond? (yes/no)\")\n",
    "        if repeat == 'no':\n",
    "            polling_active = False\n",
    "            \n",
    "# 调查结束， 显示结果\n",
    "print(\"\\n---Poll Results ---\")\n",
    "for name ,response in responses.items():\n",
    "    print(name + \" would like to climb \" + response + \".\")"
   ]
  },
  {
   "cell_type": "code",
   "execution_count": null,
   "metadata": {
    "collapsed": true
   },
   "outputs": [],
   "source": []
  }
 ],
 "metadata": {
  "kernelspec": {
   "display_name": "Python 3",
   "language": "python",
   "name": "python3"
  },
  "language_info": {
   "codemirror_mode": {
    "name": "ipython",
    "version": 3
   },
   "file_extension": ".py",
   "mimetype": "text/x-python",
   "name": "python",
   "nbconvert_exporter": "python",
   "pygments_lexer": "ipython3",
   "version": "3.6.2"
  }
 },
 "nbformat": 4,
 "nbformat_minor": 2
}
